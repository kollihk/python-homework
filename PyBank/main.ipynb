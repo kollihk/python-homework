{
 "cells": [
  {
   "cell_type": "code",
   "execution_count": 2,
   "id": "f71ec06e-1944-450f-8fbc-60be9cb376bb",
   "metadata": {},
   "outputs": [],
   "source": [
    "# Import the pathlib and csv library\n",
    "from pathlib import Path\n",
    "import csv"
   ]
  },
  {
   "cell_type": "code",
   "execution_count": 3,
   "id": "c4deaca1-07d1-4d8a-a815-adb3af9057c8",
   "metadata": {},
   "outputs": [],
   "source": [
    "# Set the file path\n",
    "csvpath = Path(\"budget_data.csv\")\n",
    "\n",
    "net_profit = 0\n",
    "no_months = 0\n",
    "average = 0\n",
    "minimum = 0\n",
    "maximum = 0\n",
    "decrease_pft = []\n",
    "increase_pft = []"
   ]
  },
  {
   "cell_type": "code",
   "execution_count": 4,
   "id": "c4c8a324-9542-4a14-b81b-03061b56185b",
   "metadata": {},
   "outputs": [
    {
     "name": "stdout",
     "output_type": "stream",
     "text": [
      "['Date', 'Profit/Losses']\n"
     ]
    }
   ],
   "source": [
    "# Open the csv file as an object\n",
    "with open(csvpath, \"r\") as csvfile:\n",
    "    # Pass in the csv file to the csv.reader() function\n",
    "    # (with ',' as the delmiter/separator) and return the csvreader object\n",
    "    csvreader = csv.reader(csvfile, delimiter=\",\")\n",
    "\n",
    "    # Read the header row first (skip this step if there is no header)\n",
    "    csv_header = next(csvreader)\n",
    "    # Print the header\n",
    "    print(csv_header)\n",
    "    \n",
    "    # Read each row of data after the header\n",
    "    for row in csvreader:\n",
    "\n",
    "        # Cumulatively sum up the total profits/losses and count of months\n",
    "        net_profit += int(row[1])\n",
    "        no_months += 1\n",
    "        \n",
    "        # Logic to determine greatest increase/decrease in profits\n",
    "        if minimum == 0:\n",
    "            minimum = int(row[1])\n",
    "            decrease_pft = row\n",
    "        elif int(row[1]) < minimum:\n",
    "            minimum = int(row[1])\n",
    "            decrease_pft = row\n",
    "        elif int(row[1]) > maximum:\n",
    "            maximum = int(row[1])\n",
    "            increase_pft = row"
   ]
  },
  {
   "cell_type": "code",
   "execution_count": 5,
   "id": "b961d787-4321-44b6-aad3-e215a319c7b2",
   "metadata": {},
   "outputs": [],
   "source": [
    "# Calculate the average\n",
    "average = round(net_profit / no_months, 2)"
   ]
  },
  {
   "cell_type": "code",
   "execution_count": 6,
   "id": "e1b6844c-a032-495c-b2f6-167c66eb640c",
   "metadata": {},
   "outputs": [
    {
     "name": "stdout",
     "output_type": "stream",
     "text": [
      "Financial Analysys\n",
      "--------------------------\n",
      "Total Months: 86\n",
      "Total: $38382578\n",
      "Average  Change: 446309.05\n",
      "Greatest Increase in Profits: Feb-2012 $1170593\n",
      "Greatest Decrease in Profits: Sep-2013 $-1196225\n"
     ]
    }
   ],
   "source": [
    "# Print out the summary statistics\n",
    "print(\"Financial Analysys\")\n",
    "print(\"--------------------------\")\n",
    "print(f\"Total Months: {no_months}\")\n",
    "print(f'Total: ${net_profit}')\n",
    "print(f\"Average  Change: {average}\")\n",
    "print(f\"Greatest Increase in Profits: {increase_pft[0]} ${increase_pft[1]}\")\n",
    "print(f\"Greatest Decrease in Profits: {decrease_pft[0]} ${decrease_pft[1]}\")\n"
   ]
  },
  {
   "cell_type": "code",
   "execution_count": 7,
   "id": "56ea0169-c54f-49df-a6ad-b99ac53e5bb0",
   "metadata": {},
   "outputs": [],
   "source": [
    "# Export analysis to a file\n",
    "with open('../report.txt', 'w') as f:\n",
    "    f.write('Financial Analysys \\n')\n",
    "    f.write('-------------------------- \\n')\n",
    "    f.write(f'Total: ${net_profit}')\n",
    "    f.write('\\n')\n",
    "    f.write(f\"Average  Change: {average}\")\n",
    "    f.write('\\n')\n",
    "    f.write(f\"Greatest Increase in Profits: {increase_pft[0]} ${increase_pft[1]}\")\n",
    "    f.write('\\n')\n",
    "    f.write(f\"Greatest Decrease in Profits: {decrease_pft[0]} ${decrease_pft[1]}\")\n",
    "    f.write('\\n')\n"
   ]
  },
  {
   "cell_type": "code",
   "execution_count": null,
   "id": "22271551-8260-467c-ba9b-324b723c8a0d",
   "metadata": {},
   "outputs": [],
   "source": []
  }
 ],
 "metadata": {
  "kernelspec": {
   "display_name": "Python 3 (ipykernel)",
   "language": "python",
   "name": "python3"
  },
  "language_info": {
   "codemirror_mode": {
    "name": "ipython",
    "version": 3
   },
   "file_extension": ".py",
   "mimetype": "text/x-python",
   "name": "python",
   "nbconvert_exporter": "python",
   "pygments_lexer": "ipython3",
   "version": "3.9.7"
  }
 },
 "nbformat": 4,
 "nbformat_minor": 5
}
